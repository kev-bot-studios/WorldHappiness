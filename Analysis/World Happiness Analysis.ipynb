{
 "cells": [
  {
   "cell_type": "markdown",
   "id": "ed5ed9fd",
   "metadata": {},
   "source": [
    "### Setup"
   ]
  },
  {
   "cell_type": "code",
   "execution_count": 77,
   "id": "96a81779",
   "metadata": {},
   "outputs": [],
   "source": [
    "import pandas as pd\n",
    "import numpy as np\n",
    "from getpass import getpass\n",
    "from mysql.connector import connect, Error\n",
    "from sklearn.preprocessing import StandardScaler\n",
    "from sklearn.linear_model import LinearRegression\n",
    "from sklearn.metrics import r2_score\n",
    "import os\n",
    "import matplotlib.pyplot as plt"
   ]
  },
  {
   "cell_type": "code",
   "execution_count": 2,
   "id": "2255c06a",
   "metadata": {},
   "outputs": [
    {
     "name": "stdout",
     "output_type": "stream",
     "text": [
      "········\n"
     ]
    }
   ],
   "source": [
    "# Load Password\n",
    "pwd = getpass()"
   ]
  },
  {
   "cell_type": "code",
   "execution_count": 3,
   "id": "0dc9bdc7",
   "metadata": {},
   "outputs": [],
   "source": [
    "pd.set_option('display.max_rows', 100)"
   ]
  },
  {
   "cell_type": "markdown",
   "id": "500e7cd9",
   "metadata": {},
   "source": [
    "### Load in tables / format"
   ]
  },
  {
   "cell_type": "code",
   "execution_count": 4,
   "id": "a56bcfc0",
   "metadata": {},
   "outputs": [
    {
     "name": "stdout",
     "output_type": "stream",
     "text": [
      "A connection object has been created.\n",
      "The connection has been closed\n"
     ]
    },
    {
     "name": "stderr",
     "output_type": "stream",
     "text": [
      "/var/folders/2t/vtgh7f0x5ns5m6x9psdw8y7m0000gn/T/ipykernel_42756/2153304734.py:10: UserWarning: pandas only supports SQLAlchemy connectable (engine/connection) or database string URI or sqlite3 DBAPI2 connection. Other DBAPI2 objects are not tested. Please consider using SQLAlchemy.\n",
      "  happiness_scores= pd.read_sql(scores_sql, con = conn)\n",
      "/var/folders/2t/vtgh7f0x5ns5m6x9psdw8y7m0000gn/T/ipykernel_42756/2153304734.py:13: UserWarning: pandas only supports SQLAlchemy connectable (engine/connection) or database string URI or sqlite3 DBAPI2 connection. Other DBAPI2 objects are not tested. Please consider using SQLAlchemy.\n",
      "  full_report_2015 = pd.read_sql(sql_2015, con = conn)\n",
      "/var/folders/2t/vtgh7f0x5ns5m6x9psdw8y7m0000gn/T/ipykernel_42756/2153304734.py:16: UserWarning: pandas only supports SQLAlchemy connectable (engine/connection) or database string URI or sqlite3 DBAPI2 connection. Other DBAPI2 objects are not tested. Please consider using SQLAlchemy.\n",
      "  full_report_2016 = pd.read_sql(sql_2016, con = conn)\n",
      "/var/folders/2t/vtgh7f0x5ns5m6x9psdw8y7m0000gn/T/ipykernel_42756/2153304734.py:19: UserWarning: pandas only supports SQLAlchemy connectable (engine/connection) or database string URI or sqlite3 DBAPI2 connection. Other DBAPI2 objects are not tested. Please consider using SQLAlchemy.\n",
      "  full_report_2017 = pd.read_sql(sql_2017, con = conn)\n",
      "/var/folders/2t/vtgh7f0x5ns5m6x9psdw8y7m0000gn/T/ipykernel_42756/2153304734.py:22: UserWarning: pandas only supports SQLAlchemy connectable (engine/connection) or database string URI or sqlite3 DBAPI2 connection. Other DBAPI2 objects are not tested. Please consider using SQLAlchemy.\n",
      "  full_report_2018 = pd.read_sql(sql_2018, con = conn)\n",
      "/var/folders/2t/vtgh7f0x5ns5m6x9psdw8y7m0000gn/T/ipykernel_42756/2153304734.py:25: UserWarning: pandas only supports SQLAlchemy connectable (engine/connection) or database string URI or sqlite3 DBAPI2 connection. Other DBAPI2 objects are not tested. Please consider using SQLAlchemy.\n",
      "  full_report_2019 = pd.read_sql(sql_2019, con = conn)\n"
     ]
    }
   ],
   "source": [
    "conn = connect(\n",
    "      user = 'root',\n",
    "      password = pwd,\n",
    "      host = 'localhost',\n",
    "      database = 'world_happiness')\n",
    " \n",
    "print('A connection object has been created.')\n",
    "\n",
    "scores_sql = 'SELECT * FROM world_happiness_data;'\n",
    "happiness_scores= pd.read_sql(scores_sql, con = conn)\n",
    "\n",
    "sql_2015 = 'SELECT * FROM full_report_2015'\n",
    "full_report_2015 = pd.read_sql(sql_2015, con = conn)\n",
    "\n",
    "sql_2016 = 'SELECT * FROM full_report_2016'\n",
    "full_report_2016 = pd.read_sql(sql_2016, con = conn)\n",
    "\n",
    "sql_2017 = 'SELECT * FROM full_report_2017'\n",
    "full_report_2017 = pd.read_sql(sql_2017, con = conn)\n",
    "\n",
    "sql_2018 = 'SELECT * FROM full_report_2018'\n",
    "full_report_2018 = pd.read_sql(sql_2018, con = conn)\n",
    "\n",
    "sql_2019 = 'SELECT * FROM full_report_2019'\n",
    "full_report_2019 = pd.read_sql(sql_2019, con = conn)\n",
    "\n",
    "conn.close()\n",
    "print('The connection has been closed')"
   ]
  },
  {
   "cell_type": "code",
   "execution_count": 5,
   "id": "9560402a",
   "metadata": {},
   "outputs": [],
   "source": [
    "# Add year column to individual reports\n",
    "full_report_2015.loc[:, 'Year'] = 2015\n",
    "full_report_2016.loc[:, 'Year'] = 2016\n",
    "full_report_2017.loc[:, 'Year'] = 2017\n",
    "full_report_2018.loc[:, 'Year'] = 2018\n",
    "full_report_2019.loc[:, 'Year'] = 2019\n",
    "\n",
    "# Convert Country Name and Region columns to title case (Region only exists in 2015 / 2016 data)\n",
    "full_report_2015.loc[:, 'Country'] = full_report_2015.loc[:, 'Country'].str.title()\n",
    "full_report_2016.loc[:, 'Country'] = full_report_2016.loc[:, 'Country'].str.title()\n",
    "full_report_2017.loc[:, 'Country'] = full_report_2017.loc[:, 'Country'].str.title()\n",
    "full_report_2018.loc[:, 'Country'] = full_report_2018.loc[:, 'Country'].str.title()\n",
    "full_report_2019.loc[:, 'Country'] = full_report_2019.loc[:, 'Country'].str.title()\n",
    "\n",
    "full_report_2015.loc[:, 'Region'] = full_report_2015.loc[:, 'Region'].str.title()\n",
    "full_report_2016.loc[:, 'Region'] = full_report_2016.loc[:, 'Region'].str.title()\n",
    "\n",
    "happiness_scores.loc[:, 'Country'] = happiness_scores.loc[:, 'Country'].str.title()"
   ]
  },
  {
   "cell_type": "code",
   "execution_count": 6,
   "id": "804f3fe9",
   "metadata": {},
   "outputs": [
    {
     "data": {
      "text/plain": [
       "(781, 2)"
      ]
     },
     "execution_count": 6,
     "metadata": {},
     "output_type": "execute_result"
    }
   ],
   "source": [
    "# Union all the reports year / country\n",
    "comb_reports = pd.concat([full_report_2015[['Country', 'Year']], full_report_2016[['Country', 'Year']], \n",
    "                          full_report_2017[['Country', 'Year']], full_report_2018[['Country', 'Year']],\n",
    "                          full_report_2019[['Country', 'Year']]], axis = 0)\n",
    "\n",
    "comb_reports.shape"
   ]
  },
  {
   "cell_type": "markdown",
   "id": "b481496d",
   "metadata": {},
   "source": [
    "### Coverage of full report data"
   ]
  },
  {
   "cell_type": "code",
   "execution_count": 7,
   "id": "51b65dc1",
   "metadata": {},
   "outputs": [
    {
     "data": {
      "text/html": [
       "<div>\n",
       "<style scoped>\n",
       "    .dataframe tbody tr th:only-of-type {\n",
       "        vertical-align: middle;\n",
       "    }\n",
       "\n",
       "    .dataframe tbody tr th {\n",
       "        vertical-align: top;\n",
       "    }\n",
       "\n",
       "    .dataframe thead th {\n",
       "        text-align: right;\n",
       "    }\n",
       "</style>\n",
       "<table border=\"1\" class=\"dataframe\">\n",
       "  <thead>\n",
       "    <tr style=\"text-align: right;\">\n",
       "      <th></th>\n",
       "      <th>Country</th>\n",
       "    </tr>\n",
       "    <tr>\n",
       "      <th>Year</th>\n",
       "      <th></th>\n",
       "    </tr>\n",
       "  </thead>\n",
       "  <tbody>\n",
       "    <tr>\n",
       "      <th>1</th>\n",
       "      <td>7</td>\n",
       "    </tr>\n",
       "    <tr>\n",
       "      <th>2</th>\n",
       "      <td>5</td>\n",
       "    </tr>\n",
       "    <tr>\n",
       "      <th>3</th>\n",
       "      <td>4</td>\n",
       "    </tr>\n",
       "    <tr>\n",
       "      <th>4</th>\n",
       "      <td>13</td>\n",
       "    </tr>\n",
       "    <tr>\n",
       "      <th>5</th>\n",
       "      <td>140</td>\n",
       "    </tr>\n",
       "  </tbody>\n",
       "</table>\n",
       "</div>"
      ],
      "text/plain": [
       "      Country\n",
       "Year         \n",
       "1           7\n",
       "2           5\n",
       "3           4\n",
       "4          13\n",
       "5         140"
      ]
     },
     "execution_count": 7,
     "metadata": {},
     "output_type": "execute_result"
    }
   ],
   "source": [
    "# Observere how many countries have coverage for each year - vast majority have all 5 years\n",
    "comb_reports.groupby('Country').agg({'Year': 'count'}) \\\n",
    "    .reset_index() \\\n",
    "    .groupby('Year').agg({'Country': 'count'})"
   ]
  },
  {
   "cell_type": "markdown",
   "id": "88ef3d2d",
   "metadata": {},
   "source": [
    "### Is country to region mapping consistent in 2015 and 2016"
   ]
  },
  {
   "cell_type": "code",
   "execution_count": 8,
   "id": "12666be0",
   "metadata": {},
   "outputs": [
    {
     "data": {
      "text/html": [
       "<div>\n",
       "<style scoped>\n",
       "    .dataframe tbody tr th:only-of-type {\n",
       "        vertical-align: middle;\n",
       "    }\n",
       "\n",
       "    .dataframe tbody tr th {\n",
       "        vertical-align: top;\n",
       "    }\n",
       "\n",
       "    .dataframe thead th {\n",
       "        text-align: right;\n",
       "    }\n",
       "</style>\n",
       "<table border=\"1\" class=\"dataframe\">\n",
       "  <thead>\n",
       "    <tr style=\"text-align: right;\">\n",
       "      <th></th>\n",
       "      <th>Country</th>\n",
       "      <th>Region_2015</th>\n",
       "      <th>Region_2016</th>\n",
       "    </tr>\n",
       "  </thead>\n",
       "  <tbody>\n",
       "    <tr>\n",
       "      <th>25</th>\n",
       "      <td>Central African Republic</td>\n",
       "      <td>Sub-Saharan Africa</td>\n",
       "      <td>NaN</td>\n",
       "    </tr>\n",
       "    <tr>\n",
       "      <th>38</th>\n",
       "      <td>Djibouti</td>\n",
       "      <td>Sub-Saharan Africa</td>\n",
       "      <td>NaN</td>\n",
       "    </tr>\n",
       "    <tr>\n",
       "      <th>78</th>\n",
       "      <td>Lesotho</td>\n",
       "      <td>Sub-Saharan Africa</td>\n",
       "      <td>NaN</td>\n",
       "    </tr>\n",
       "    <tr>\n",
       "      <th>96</th>\n",
       "      <td>Mozambique</td>\n",
       "      <td>Sub-Saharan Africa</td>\n",
       "      <td>NaN</td>\n",
       "    </tr>\n",
       "    <tr>\n",
       "      <th>106</th>\n",
       "      <td>Oman</td>\n",
       "      <td>Middle East And Northern Africa</td>\n",
       "      <td>NaN</td>\n",
       "    </tr>\n",
       "    <tr>\n",
       "      <th>133</th>\n",
       "      <td>Swaziland</td>\n",
       "      <td>Sub-Saharan Africa</td>\n",
       "      <td>NaN</td>\n",
       "    </tr>\n",
       "    <tr>\n",
       "      <th>158</th>\n",
       "      <td>Belize</td>\n",
       "      <td>NaN</td>\n",
       "      <td>Latin America And Caribbean</td>\n",
       "    </tr>\n",
       "    <tr>\n",
       "      <th>159</th>\n",
       "      <td>Namibia</td>\n",
       "      <td>NaN</td>\n",
       "      <td>Sub-Saharan Africa</td>\n",
       "    </tr>\n",
       "    <tr>\n",
       "      <th>160</th>\n",
       "      <td>Puerto Rico</td>\n",
       "      <td>NaN</td>\n",
       "      <td>Latin America And Caribbean</td>\n",
       "    </tr>\n",
       "    <tr>\n",
       "      <th>161</th>\n",
       "      <td>Somalia</td>\n",
       "      <td>NaN</td>\n",
       "      <td>Sub-Saharan Africa</td>\n",
       "    </tr>\n",
       "    <tr>\n",
       "      <th>162</th>\n",
       "      <td>South Sudan</td>\n",
       "      <td>NaN</td>\n",
       "      <td>Sub-Saharan Africa</td>\n",
       "    </tr>\n",
       "  </tbody>\n",
       "</table>\n",
       "</div>"
      ],
      "text/plain": [
       "                      Country                      Region_2015  \\\n",
       "25   Central African Republic               Sub-Saharan Africa   \n",
       "38                   Djibouti               Sub-Saharan Africa   \n",
       "78                    Lesotho               Sub-Saharan Africa   \n",
       "96                 Mozambique               Sub-Saharan Africa   \n",
       "106                      Oman  Middle East And Northern Africa   \n",
       "133                 Swaziland               Sub-Saharan Africa   \n",
       "158                    Belize                              NaN   \n",
       "159                   Namibia                              NaN   \n",
       "160               Puerto Rico                              NaN   \n",
       "161                   Somalia                              NaN   \n",
       "162               South Sudan                              NaN   \n",
       "\n",
       "                     Region_2016  \n",
       "25                           NaN  \n",
       "38                           NaN  \n",
       "78                           NaN  \n",
       "96                           NaN  \n",
       "106                          NaN  \n",
       "133                          NaN  \n",
       "158  Latin America And Caribbean  \n",
       "159           Sub-Saharan Africa  \n",
       "160  Latin America And Caribbean  \n",
       "161           Sub-Saharan Africa  \n",
       "162           Sub-Saharan Africa  "
      ]
     },
     "execution_count": 8,
     "metadata": {},
     "output_type": "execute_result"
    }
   ],
   "source": [
    "# Observe differences in region mapping between 2015 and 2016 (only diffs are from diff countries)\n",
    "region_map = pd.merge(full_report_2015[['Country', 'Region']], full_report_2016[['Country', 'Region']],\n",
    "         how = 'outer', on = 'Country', suffixes = ('_2015', '_2016'))\n",
    "\n",
    "diff_msk = region_map['Region_2015'] != region_map['Region_2016']\n",
    "same_msk = region_map['Region_2015'] == region_map['Region_2016']\n",
    "region_map[diff_msk]"
   ]
  },
  {
   "cell_type": "code",
   "execution_count": 9,
   "id": "fe3f168e",
   "metadata": {},
   "outputs": [
    {
     "data": {
      "text/plain": [
       "(152, 3)"
      ]
     },
     "execution_count": 9,
     "metadata": {},
     "output_type": "execute_result"
    }
   ],
   "source": [
    "region_map[same_msk].shape"
   ]
  },
  {
   "cell_type": "markdown",
   "id": "06bd0fd5",
   "metadata": {},
   "source": [
    "### Since only diff between 2015 and 2016 are from different countries, we can just UNION to create mapping"
   ]
  },
  {
   "cell_type": "code",
   "execution_count": 10,
   "id": "474bbe7f",
   "metadata": {},
   "outputs": [
    {
     "data": {
      "text/html": [
       "<div>\n",
       "<style scoped>\n",
       "    .dataframe tbody tr th:only-of-type {\n",
       "        vertical-align: middle;\n",
       "    }\n",
       "\n",
       "    .dataframe tbody tr th {\n",
       "        vertical-align: top;\n",
       "    }\n",
       "\n",
       "    .dataframe thead th {\n",
       "        text-align: right;\n",
       "    }\n",
       "</style>\n",
       "<table border=\"1\" class=\"dataframe\">\n",
       "  <thead>\n",
       "    <tr style=\"text-align: right;\">\n",
       "      <th></th>\n",
       "      <th>Country</th>\n",
       "      <th>Region</th>\n",
       "    </tr>\n",
       "  </thead>\n",
       "  <tbody>\n",
       "    <tr>\n",
       "      <th>0</th>\n",
       "      <td>Afghanistan</td>\n",
       "      <td>Southern Asia</td>\n",
       "    </tr>\n",
       "    <tr>\n",
       "      <th>1</th>\n",
       "      <td>Albania</td>\n",
       "      <td>Central And Eastern Europe</td>\n",
       "    </tr>\n",
       "    <tr>\n",
       "      <th>2</th>\n",
       "      <td>Algeria</td>\n",
       "      <td>Middle East And Northern Africa</td>\n",
       "    </tr>\n",
       "    <tr>\n",
       "      <th>3</th>\n",
       "      <td>Angola</td>\n",
       "      <td>Sub-Saharan Africa</td>\n",
       "    </tr>\n",
       "    <tr>\n",
       "      <th>4</th>\n",
       "      <td>Argentina</td>\n",
       "      <td>Latin America And Caribbean</td>\n",
       "    </tr>\n",
       "    <tr>\n",
       "      <th>...</th>\n",
       "      <td>...</td>\n",
       "      <td>...</td>\n",
       "    </tr>\n",
       "    <tr>\n",
       "      <th>13</th>\n",
       "      <td>Belize</td>\n",
       "      <td>Latin America And Caribbean</td>\n",
       "    </tr>\n",
       "    <tr>\n",
       "      <th>95</th>\n",
       "      <td>Namibia</td>\n",
       "      <td>Sub-Saharan Africa</td>\n",
       "    </tr>\n",
       "    <tr>\n",
       "      <th>112</th>\n",
       "      <td>Puerto Rico</td>\n",
       "      <td>Latin America And Caribbean</td>\n",
       "    </tr>\n",
       "    <tr>\n",
       "      <th>124</th>\n",
       "      <td>Somalia</td>\n",
       "      <td>Sub-Saharan Africa</td>\n",
       "    </tr>\n",
       "    <tr>\n",
       "      <th>128</th>\n",
       "      <td>South Sudan</td>\n",
       "      <td>Sub-Saharan Africa</td>\n",
       "    </tr>\n",
       "  </tbody>\n",
       "</table>\n",
       "<p>163 rows × 2 columns</p>\n",
       "</div>"
      ],
      "text/plain": [
       "         Country                           Region\n",
       "0    Afghanistan                    Southern Asia\n",
       "1        Albania       Central And Eastern Europe\n",
       "2        Algeria  Middle East And Northern Africa\n",
       "3         Angola               Sub-Saharan Africa\n",
       "4      Argentina      Latin America And Caribbean\n",
       "..           ...                              ...\n",
       "13        Belize      Latin America And Caribbean\n",
       "95       Namibia               Sub-Saharan Africa\n",
       "112  Puerto Rico      Latin America And Caribbean\n",
       "124      Somalia               Sub-Saharan Africa\n",
       "128  South Sudan               Sub-Saharan Africa\n",
       "\n",
       "[163 rows x 2 columns]"
      ]
     },
     "execution_count": 10,
     "metadata": {},
     "output_type": "execute_result"
    }
   ],
   "source": [
    "country_region_map = pd.concat([full_report_2015[['Country', 'Region']],\n",
    "                                full_report_2016[['Country', 'Region']]], axis = 0)\n",
    "country_region_map = country_region_map.drop_duplicates().copy()\n",
    "assert country_region_map.shape[0] == region_map[same_msk].shape[0] + region_map[diff_msk].shape[0]\n",
    "\n",
    "country_region_map"
   ]
  },
  {
   "cell_type": "markdown",
   "id": "81c6f9d1",
   "metadata": {},
   "source": [
    "### Add country region / map to happiness scores / data"
   ]
  },
  {
   "cell_type": "code",
   "execution_count": 11,
   "id": "f4f45b37",
   "metadata": {},
   "outputs": [
    {
     "name": "stdout",
     "output_type": "stream",
     "text": [
      "(1523, 5)\n"
     ]
    },
    {
     "data": {
      "text/html": [
       "<div>\n",
       "<style scoped>\n",
       "    .dataframe tbody tr th:only-of-type {\n",
       "        vertical-align: middle;\n",
       "    }\n",
       "\n",
       "    .dataframe tbody tr th {\n",
       "        vertical-align: top;\n",
       "    }\n",
       "\n",
       "    .dataframe thead th {\n",
       "        text-align: right;\n",
       "    }\n",
       "</style>\n",
       "<table border=\"1\" class=\"dataframe\">\n",
       "  <thead>\n",
       "    <tr style=\"text-align: right;\">\n",
       "      <th></th>\n",
       "      <th>Country</th>\n",
       "      <th>Year</th>\n",
       "      <th>HappinessIndex</th>\n",
       "      <th>HappinessRank</th>\n",
       "      <th>Region</th>\n",
       "    </tr>\n",
       "  </thead>\n",
       "  <tbody>\n",
       "    <tr>\n",
       "      <th>0</th>\n",
       "      <td>Afghanistan</td>\n",
       "      <td>2013</td>\n",
       "      <td>4.040</td>\n",
       "      <td>143</td>\n",
       "      <td>Southern Asia</td>\n",
       "    </tr>\n",
       "    <tr>\n",
       "      <th>1</th>\n",
       "      <td>Afghanistan</td>\n",
       "      <td>2015</td>\n",
       "      <td>3.575</td>\n",
       "      <td>153</td>\n",
       "      <td>Southern Asia</td>\n",
       "    </tr>\n",
       "    <tr>\n",
       "      <th>2</th>\n",
       "      <td>Afghanistan</td>\n",
       "      <td>2016</td>\n",
       "      <td>3.360</td>\n",
       "      <td>154</td>\n",
       "      <td>Southern Asia</td>\n",
       "    </tr>\n",
       "    <tr>\n",
       "      <th>3</th>\n",
       "      <td>Afghanistan</td>\n",
       "      <td>2017</td>\n",
       "      <td>3.794</td>\n",
       "      <td>141</td>\n",
       "      <td>Southern Asia</td>\n",
       "    </tr>\n",
       "    <tr>\n",
       "      <th>4</th>\n",
       "      <td>Afghanistan</td>\n",
       "      <td>2018</td>\n",
       "      <td>3.632</td>\n",
       "      <td>145</td>\n",
       "      <td>Southern Asia</td>\n",
       "    </tr>\n",
       "  </tbody>\n",
       "</table>\n",
       "</div>"
      ],
      "text/plain": [
       "       Country  Year  HappinessIndex  HappinessRank         Region\n",
       "0  Afghanistan  2013           4.040            143  Southern Asia\n",
       "1  Afghanistan  2015           3.575            153  Southern Asia\n",
       "2  Afghanistan  2016           3.360            154  Southern Asia\n",
       "3  Afghanistan  2017           3.794            141  Southern Asia\n",
       "4  Afghanistan  2018           3.632            145  Southern Asia"
      ]
     },
     "execution_count": 11,
     "metadata": {},
     "output_type": "execute_result"
    }
   ],
   "source": [
    "# Add region to hapiness_scores\n",
    "df_happiness = pd.merge(happiness_scores, country_region_map, how = 'left', on = 'Country').copy()\n",
    "print(df_happiness.shape)\n",
    "df_happiness.head()"
   ]
  },
  {
   "cell_type": "markdown",
   "id": "86d5a96c",
   "metadata": {},
   "source": [
    "### Get common attributes from each full report table, and join them with df_happiness"
   ]
  },
  {
   "cell_type": "code",
   "execution_count": 12,
   "id": "da82988e",
   "metadata": {},
   "outputs": [],
   "source": [
    "com_attrs = ['Country', 'Economy', 'Family', 'Health', 'Freedom', 'Trust', 'Generosity', 'Year']"
   ]
  },
  {
   "cell_type": "code",
   "execution_count": 13,
   "id": "3e33fe10",
   "metadata": {},
   "outputs": [
    {
     "data": {
      "text/plain": [
       "(781, 8)"
      ]
     },
     "execution_count": 13,
     "metadata": {},
     "output_type": "execute_result"
    }
   ],
   "source": [
    "# Combine all data with full score breakdown\n",
    "all_score_breakdown = \\\n",
    "    pd.concat([full_report_2015[com_attrs], full_report_2016[com_attrs], full_report_2017[com_attrs],\n",
    "           full_report_2018[com_attrs], full_report_2019[com_attrs]], axis = 0).copy()\n",
    "\n",
    "all_score_breakdown.shape"
   ]
  },
  {
   "cell_type": "code",
   "execution_count": 14,
   "id": "50675774",
   "metadata": {},
   "outputs": [
    {
     "name": "stdout",
     "output_type": "stream",
     "text": [
      "(1523, 11)\n"
     ]
    },
    {
     "data": {
      "text/html": [
       "<div>\n",
       "<style scoped>\n",
       "    .dataframe tbody tr th:only-of-type {\n",
       "        vertical-align: middle;\n",
       "    }\n",
       "\n",
       "    .dataframe tbody tr th {\n",
       "        vertical-align: top;\n",
       "    }\n",
       "\n",
       "    .dataframe thead th {\n",
       "        text-align: right;\n",
       "    }\n",
       "</style>\n",
       "<table border=\"1\" class=\"dataframe\">\n",
       "  <thead>\n",
       "    <tr style=\"text-align: right;\">\n",
       "      <th></th>\n",
       "      <th>Country</th>\n",
       "      <th>Year</th>\n",
       "      <th>HappinessIndex</th>\n",
       "      <th>HappinessRank</th>\n",
       "      <th>Region</th>\n",
       "      <th>Economy</th>\n",
       "      <th>Family</th>\n",
       "      <th>Health</th>\n",
       "      <th>Freedom</th>\n",
       "      <th>Trust</th>\n",
       "      <th>Generosity</th>\n",
       "    </tr>\n",
       "  </thead>\n",
       "  <tbody>\n",
       "    <tr>\n",
       "      <th>0</th>\n",
       "      <td>Afghanistan</td>\n",
       "      <td>2013</td>\n",
       "      <td>4.040</td>\n",
       "      <td>143</td>\n",
       "      <td>Southern Asia</td>\n",
       "      <td>NaN</td>\n",
       "      <td>NaN</td>\n",
       "      <td>NaN</td>\n",
       "      <td>NaN</td>\n",
       "      <td>NaN</td>\n",
       "      <td>NaN</td>\n",
       "    </tr>\n",
       "    <tr>\n",
       "      <th>1</th>\n",
       "      <td>Afghanistan</td>\n",
       "      <td>2015</td>\n",
       "      <td>3.575</td>\n",
       "      <td>153</td>\n",
       "      <td>Southern Asia</td>\n",
       "      <td>0.319820</td>\n",
       "      <td>0.302850</td>\n",
       "      <td>0.303350</td>\n",
       "      <td>0.23414</td>\n",
       "      <td>0.097190</td>\n",
       "      <td>0.365100</td>\n",
       "    </tr>\n",
       "    <tr>\n",
       "      <th>2</th>\n",
       "      <td>Afghanistan</td>\n",
       "      <td>2016</td>\n",
       "      <td>3.360</td>\n",
       "      <td>154</td>\n",
       "      <td>Southern Asia</td>\n",
       "      <td>0.382270</td>\n",
       "      <td>0.110370</td>\n",
       "      <td>0.173440</td>\n",
       "      <td>0.16430</td>\n",
       "      <td>0.071120</td>\n",
       "      <td>0.312680</td>\n",
       "    </tr>\n",
       "    <tr>\n",
       "      <th>3</th>\n",
       "      <td>Afghanistan</td>\n",
       "      <td>2017</td>\n",
       "      <td>3.794</td>\n",
       "      <td>141</td>\n",
       "      <td>Southern Asia</td>\n",
       "      <td>0.401477</td>\n",
       "      <td>0.581543</td>\n",
       "      <td>0.180747</td>\n",
       "      <td>0.10618</td>\n",
       "      <td>0.061158</td>\n",
       "      <td>0.311871</td>\n",
       "    </tr>\n",
       "    <tr>\n",
       "      <th>4</th>\n",
       "      <td>Afghanistan</td>\n",
       "      <td>2018</td>\n",
       "      <td>3.632</td>\n",
       "      <td>145</td>\n",
       "      <td>Southern Asia</td>\n",
       "      <td>0.332000</td>\n",
       "      <td>0.537000</td>\n",
       "      <td>0.255000</td>\n",
       "      <td>0.08500</td>\n",
       "      <td>0.036000</td>\n",
       "      <td>0.191000</td>\n",
       "    </tr>\n",
       "  </tbody>\n",
       "</table>\n",
       "</div>"
      ],
      "text/plain": [
       "       Country  Year  HappinessIndex  HappinessRank         Region   Economy  \\\n",
       "0  Afghanistan  2013           4.040            143  Southern Asia       NaN   \n",
       "1  Afghanistan  2015           3.575            153  Southern Asia  0.319820   \n",
       "2  Afghanistan  2016           3.360            154  Southern Asia  0.382270   \n",
       "3  Afghanistan  2017           3.794            141  Southern Asia  0.401477   \n",
       "4  Afghanistan  2018           3.632            145  Southern Asia  0.332000   \n",
       "\n",
       "     Family    Health  Freedom     Trust  Generosity  \n",
       "0       NaN       NaN      NaN       NaN         NaN  \n",
       "1  0.302850  0.303350  0.23414  0.097190    0.365100  \n",
       "2  0.110370  0.173440  0.16430  0.071120    0.312680  \n",
       "3  0.581543  0.180747  0.10618  0.061158    0.311871  \n",
       "4  0.537000  0.255000  0.08500  0.036000    0.191000  "
      ]
     },
     "execution_count": 14,
     "metadata": {},
     "output_type": "execute_result"
    }
   ],
   "source": [
    "df_comb = pd.merge(df_happiness, all_score_breakdown, how = 'left', on = ['Country', 'Year']).copy()\n",
    "print(df_comb.shape)\n",
    "df_comb.head()"
   ]
  },
  {
   "cell_type": "markdown",
   "id": "1d76da67",
   "metadata": {},
   "source": [
    "### EDA"
   ]
  },
  {
   "cell_type": "code",
   "execution_count": 15,
   "id": "76ffdc98",
   "metadata": {},
   "outputs": [
    {
     "data": {
      "text/plain": [
       "(782, 11)"
      ]
     },
     "execution_count": 15,
     "metadata": {},
     "output_type": "execute_result"
    }
   ],
   "source": [
    "# Create mask to just look at 2015 / 2019 data\n",
    "msk_2015_2019 = df_comb['Year'].isin([2015, 2016, 2017, 2018, 2019])\n",
    "df_comb[msk_2015_2019].shape"
   ]
  },
  {
   "cell_type": "code",
   "execution_count": 16,
   "id": "196f363d",
   "metadata": {},
   "outputs": [
    {
     "data": {
      "text/html": [
       "<style type=\"text/css\">\n",
       "#T_48a0a_row0_col0, #T_48a0a_row1_col1, #T_48a0a_row2_col2, #T_48a0a_row3_col3, #T_48a0a_row4_col4, #T_48a0a_row5_col5, #T_48a0a_row6_col6 {\n",
       "  background-color: #b40426;\n",
       "  color: #f1f1f1;\n",
       "}\n",
       "#T_48a0a_row0_col1 {\n",
       "  background-color: #ef886b;\n",
       "  color: #f1f1f1;\n",
       "}\n",
       "#T_48a0a_row0_col2 {\n",
       "  background-color: #f7b99e;\n",
       "  color: #000000;\n",
       "}\n",
       "#T_48a0a_row0_col3 {\n",
       "  background-color: #f59f80;\n",
       "  color: #000000;\n",
       "}\n",
       "#T_48a0a_row0_col4 {\n",
       "  background-color: #b6cefa;\n",
       "  color: #000000;\n",
       "}\n",
       "#T_48a0a_row0_col5 {\n",
       "  background-color: #a5c3fe;\n",
       "  color: #000000;\n",
       "}\n",
       "#T_48a0a_row0_col6 {\n",
       "  background-color: #7295f4;\n",
       "  color: #f1f1f1;\n",
       "}\n",
       "#T_48a0a_row1_col0 {\n",
       "  background-color: #f39778;\n",
       "  color: #000000;\n",
       "}\n",
       "#T_48a0a_row1_col2 {\n",
       "  background-color: #f3c8b2;\n",
       "  color: #000000;\n",
       "}\n",
       "#T_48a0a_row1_col3 {\n",
       "  background-color: #f18d6f;\n",
       "  color: #f1f1f1;\n",
       "}\n",
       "#T_48a0a_row1_col4 {\n",
       "  background-color: #4f69d9;\n",
       "  color: #f1f1f1;\n",
       "}\n",
       "#T_48a0a_row1_col5 {\n",
       "  background-color: #81a4fb;\n",
       "  color: #f1f1f1;\n",
       "}\n",
       "#T_48a0a_row1_col6 {\n",
       "  background-color: #445acc;\n",
       "  color: #f1f1f1;\n",
       "}\n",
       "#T_48a0a_row2_col0 {\n",
       "  background-color: #f1cdba;\n",
       "  color: #000000;\n",
       "}\n",
       "#T_48a0a_row2_col1 {\n",
       "  background-color: #f2cbb7;\n",
       "  color: #000000;\n",
       "}\n",
       "#T_48a0a_row2_col3 {\n",
       "  background-color: #ecd3c5;\n",
       "  color: #000000;\n",
       "}\n",
       "#T_48a0a_row2_col4, #T_48a0a_row6_col5 {\n",
       "  background-color: #779af7;\n",
       "  color: #f1f1f1;\n",
       "}\n",
       "#T_48a0a_row2_col5, #T_48a0a_row2_col6, #T_48a0a_row6_col0, #T_48a0a_row6_col1, #T_48a0a_row6_col2, #T_48a0a_row6_col3, #T_48a0a_row6_col4 {\n",
       "  background-color: #3b4cc0;\n",
       "  color: #f1f1f1;\n",
       "}\n",
       "#T_48a0a_row3_col0 {\n",
       "  background-color: #f7ad90;\n",
       "  color: #000000;\n",
       "}\n",
       "#T_48a0a_row3_col1 {\n",
       "  background-color: #f08b6e;\n",
       "  color: #f1f1f1;\n",
       "}\n",
       "#T_48a0a_row3_col2 {\n",
       "  background-color: #f0cdbb;\n",
       "  color: #000000;\n",
       "}\n",
       "#T_48a0a_row3_col4 {\n",
       "  background-color: #506bda;\n",
       "  color: #f1f1f1;\n",
       "}\n",
       "#T_48a0a_row3_col5 {\n",
       "  background-color: #6687ed;\n",
       "  color: #f1f1f1;\n",
       "}\n",
       "#T_48a0a_row3_col6 {\n",
       "  background-color: #4961d2;\n",
       "  color: #f1f1f1;\n",
       "}\n",
       "#T_48a0a_row4_col0 {\n",
       "  background-color: #d7dce3;\n",
       "  color: #000000;\n",
       "}\n",
       "#T_48a0a_row4_col1 {\n",
       "  background-color: #adc9fd;\n",
       "  color: #000000;\n",
       "}\n",
       "#T_48a0a_row4_col2 {\n",
       "  background-color: #cdd9ec;\n",
       "  color: #000000;\n",
       "}\n",
       "#T_48a0a_row4_col3 {\n",
       "  background-color: #a9c6fd;\n",
       "  color: #000000;\n",
       "}\n",
       "#T_48a0a_row4_col5 {\n",
       "  background-color: #bad0f8;\n",
       "  color: #000000;\n",
       "}\n",
       "#T_48a0a_row4_col6, #T_48a0a_row5_col0 {\n",
       "  background-color: #a3c2fe;\n",
       "  color: #000000;\n",
       "}\n",
       "#T_48a0a_row5_col1, #T_48a0a_row5_col6 {\n",
       "  background-color: #a7c5fe;\n",
       "  color: #000000;\n",
       "}\n",
       "#T_48a0a_row5_col2 {\n",
       "  background-color: #6f92f3;\n",
       "  color: #f1f1f1;\n",
       "}\n",
       "#T_48a0a_row5_col3 {\n",
       "  background-color: #8badfd;\n",
       "  color: #000000;\n",
       "}\n",
       "#T_48a0a_row5_col4 {\n",
       "  background-color: #8caffe;\n",
       "  color: #000000;\n",
       "}\n",
       "</style>\n",
       "<table id=\"T_48a0a\">\n",
       "  <thead>\n",
       "    <tr>\n",
       "      <th class=\"blank level0\" >&nbsp;</th>\n",
       "      <th id=\"T_48a0a_level0_col0\" class=\"col_heading level0 col0\" >HappinessIndex</th>\n",
       "      <th id=\"T_48a0a_level0_col1\" class=\"col_heading level0 col1\" >Economy</th>\n",
       "      <th id=\"T_48a0a_level0_col2\" class=\"col_heading level0 col2\" >Family</th>\n",
       "      <th id=\"T_48a0a_level0_col3\" class=\"col_heading level0 col3\" >Health</th>\n",
       "      <th id=\"T_48a0a_level0_col4\" class=\"col_heading level0 col4\" >Freedom</th>\n",
       "      <th id=\"T_48a0a_level0_col5\" class=\"col_heading level0 col5\" >Trust</th>\n",
       "      <th id=\"T_48a0a_level0_col6\" class=\"col_heading level0 col6\" >Generosity</th>\n",
       "    </tr>\n",
       "  </thead>\n",
       "  <tbody>\n",
       "    <tr>\n",
       "      <th id=\"T_48a0a_level0_row0\" class=\"row_heading level0 row0\" >HappinessIndex</th>\n",
       "      <td id=\"T_48a0a_row0_col0\" class=\"data row0 col0\" >1.000000</td>\n",
       "      <td id=\"T_48a0a_row0_col1\" class=\"data row0 col1\" >0.792977</td>\n",
       "      <td id=\"T_48a0a_row0_col2\" class=\"data row0 col2\" >0.651855</td>\n",
       "      <td id=\"T_48a0a_row0_col3\" class=\"data row0 col3\" >0.742992</td>\n",
       "      <td id=\"T_48a0a_row0_col4\" class=\"data row0 col4\" >0.553655</td>\n",
       "      <td id=\"T_48a0a_row0_col5\" class=\"data row0 col5\" >0.413948</td>\n",
       "      <td id=\"T_48a0a_row0_col6\" class=\"data row0 col6\" >0.146624</td>\n",
       "    </tr>\n",
       "    <tr>\n",
       "      <th id=\"T_48a0a_level0_row1\" class=\"row_heading level0 row1\" >Economy</th>\n",
       "      <td id=\"T_48a0a_row1_col0\" class=\"data row1 col0\" >0.792977</td>\n",
       "      <td id=\"T_48a0a_row1_col1\" class=\"data row1 col1\" >1.000000</td>\n",
       "      <td id=\"T_48a0a_row1_col2\" class=\"data row1 col2\" >0.599915</td>\n",
       "      <td id=\"T_48a0a_row1_col3\" class=\"data row1 col3\" >0.784710</td>\n",
       "      <td id=\"T_48a0a_row1_col4\" class=\"data row1 col4\" >0.340900</td>\n",
       "      <td id=\"T_48a0a_row1_col5\" class=\"data row1 col5\" >0.326039</td>\n",
       "      <td id=\"T_48a0a_row1_col6\" class=\"data row1 col6\" >0.000293</td>\n",
       "    </tr>\n",
       "    <tr>\n",
       "      <th id=\"T_48a0a_level0_row2\" class=\"row_heading level0 row2\" >Family</th>\n",
       "      <td id=\"T_48a0a_row2_col0\" class=\"data row2 col0\" >0.651855</td>\n",
       "      <td id=\"T_48a0a_row2_col1\" class=\"data row2 col1\" >0.599915</td>\n",
       "      <td id=\"T_48a0a_row2_col2\" class=\"data row2 col2\" >1.000000</td>\n",
       "      <td id=\"T_48a0a_row2_col3\" class=\"data row2 col3\" >0.574557</td>\n",
       "      <td id=\"T_48a0a_row2_col4\" class=\"data row2 col4\" >0.426095</td>\n",
       "      <td id=\"T_48a0a_row2_col5\" class=\"data row2 col5\" >0.140650</td>\n",
       "      <td id=\"T_48a0a_row2_col6\" class=\"data row2 col6\" >-0.032133</td>\n",
       "    </tr>\n",
       "    <tr>\n",
       "      <th id=\"T_48a0a_level0_row3\" class=\"row_heading level0 row3\" >Health</th>\n",
       "      <td id=\"T_48a0a_row3_col0\" class=\"data row3 col0\" >0.742992</td>\n",
       "      <td id=\"T_48a0a_row3_col1\" class=\"data row3 col1\" >0.784710</td>\n",
       "      <td id=\"T_48a0a_row3_col2\" class=\"data row3 col2\" >0.574557</td>\n",
       "      <td id=\"T_48a0a_row3_col3\" class=\"data row3 col3\" >1.000000</td>\n",
       "      <td id=\"T_48a0a_row3_col4\" class=\"data row3 col4\" >0.342476</td>\n",
       "      <td id=\"T_48a0a_row3_col5\" class=\"data row3 col5\" >0.260551</td>\n",
       "      <td id=\"T_48a0a_row3_col6\" class=\"data row3 col6\" >0.020135</td>\n",
       "    </tr>\n",
       "    <tr>\n",
       "      <th id=\"T_48a0a_level0_row4\" class=\"row_heading level0 row4\" >Freedom</th>\n",
       "      <td id=\"T_48a0a_row4_col0\" class=\"data row4 col0\" >0.553655</td>\n",
       "      <td id=\"T_48a0a_row4_col1\" class=\"data row4 col1\" >0.340900</td>\n",
       "      <td id=\"T_48a0a_row4_col2\" class=\"data row4 col2\" >0.426095</td>\n",
       "      <td id=\"T_48a0a_row4_col3\" class=\"data row4 col3\" >0.342476</td>\n",
       "      <td id=\"T_48a0a_row4_col4\" class=\"data row4 col4\" >1.000000</td>\n",
       "      <td id=\"T_48a0a_row4_col5\" class=\"data row4 col5\" >0.468655</td>\n",
       "      <td id=\"T_48a0a_row4_col6\" class=\"data row4 col6\" >0.292160</td>\n",
       "    </tr>\n",
       "    <tr>\n",
       "      <th id=\"T_48a0a_level0_row5\" class=\"row_heading level0 row5\" >Trust</th>\n",
       "      <td id=\"T_48a0a_row5_col0\" class=\"data row5 col0\" >0.413948</td>\n",
       "      <td id=\"T_48a0a_row5_col1\" class=\"data row5 col1\" >0.326039</td>\n",
       "      <td id=\"T_48a0a_row5_col2\" class=\"data row5 col2\" >0.140650</td>\n",
       "      <td id=\"T_48a0a_row5_col3\" class=\"data row5 col3\" >0.260551</td>\n",
       "      <td id=\"T_48a0a_row5_col4\" class=\"data row5 col4\" >0.468655</td>\n",
       "      <td id=\"T_48a0a_row5_col5\" class=\"data row5 col5\" >1.000000</td>\n",
       "      <td id=\"T_48a0a_row5_col6\" class=\"data row5 col6\" >0.302701</td>\n",
       "    </tr>\n",
       "    <tr>\n",
       "      <th id=\"T_48a0a_level0_row6\" class=\"row_heading level0 row6\" >Generosity</th>\n",
       "      <td id=\"T_48a0a_row6_col0\" class=\"data row6 col0\" >0.146624</td>\n",
       "      <td id=\"T_48a0a_row6_col1\" class=\"data row6 col1\" >0.000293</td>\n",
       "      <td id=\"T_48a0a_row6_col2\" class=\"data row6 col2\" >-0.032133</td>\n",
       "      <td id=\"T_48a0a_row6_col3\" class=\"data row6 col3\" >0.020135</td>\n",
       "      <td id=\"T_48a0a_row6_col4\" class=\"data row6 col4\" >0.292160</td>\n",
       "      <td id=\"T_48a0a_row6_col5\" class=\"data row6 col5\" >0.302701</td>\n",
       "      <td id=\"T_48a0a_row6_col6\" class=\"data row6 col6\" >1.000000</td>\n",
       "    </tr>\n",
       "  </tbody>\n",
       "</table>\n"
      ],
      "text/plain": [
       "<pandas.io.formats.style.Styler at 0x1468dc760>"
      ]
     },
     "execution_count": 16,
     "metadata": {},
     "output_type": "execute_result"
    }
   ],
   "source": [
    "analysis_features = ['HappinessIndex', 'Economy', 'Family', 'Health', 'Freedom', 'Trust', 'Generosity']\n",
    "\n",
    "corr = df_comb.loc[msk_2015_2019, analysis_features].corr(numeric_only = True)\n",
    "corr.style.background_gradient(cmap='coolwarm')"
   ]
  },
  {
   "cell_type": "markdown",
   "id": "fce48a7a",
   "metadata": {},
   "source": [
    "### Run regresson of factors against HappinessIndex score"
   ]
  },
  {
   "cell_type": "code",
   "execution_count": 17,
   "id": "0c20d544",
   "metadata": {},
   "outputs": [
    {
     "name": "stdout",
     "output_type": "stream",
     "text": [
      "(782, 10)\n"
     ]
    },
    {
     "data": {
      "text/html": [
       "<div>\n",
       "<style scoped>\n",
       "    .dataframe tbody tr th:only-of-type {\n",
       "        vertical-align: middle;\n",
       "    }\n",
       "\n",
       "    .dataframe tbody tr th {\n",
       "        vertical-align: top;\n",
       "    }\n",
       "\n",
       "    .dataframe thead th {\n",
       "        text-align: right;\n",
       "    }\n",
       "</style>\n",
       "<table border=\"1\" class=\"dataframe\">\n",
       "  <thead>\n",
       "    <tr style=\"text-align: right;\">\n",
       "      <th></th>\n",
       "      <th>HappinessIndex</th>\n",
       "      <th>Economy</th>\n",
       "      <th>Family</th>\n",
       "      <th>Health</th>\n",
       "      <th>Freedom</th>\n",
       "      <th>Trust</th>\n",
       "      <th>Generosity</th>\n",
       "      <th>Country</th>\n",
       "      <th>Region</th>\n",
       "      <th>Year</th>\n",
       "    </tr>\n",
       "  </thead>\n",
       "  <tbody>\n",
       "    <tr>\n",
       "      <th>1</th>\n",
       "      <td>3.575</td>\n",
       "      <td>0.319820</td>\n",
       "      <td>0.302850</td>\n",
       "      <td>0.303350</td>\n",
       "      <td>0.23414</td>\n",
       "      <td>0.097190</td>\n",
       "      <td>0.365100</td>\n",
       "      <td>Afghanistan</td>\n",
       "      <td>Southern Asia</td>\n",
       "      <td>2015</td>\n",
       "    </tr>\n",
       "    <tr>\n",
       "      <th>2</th>\n",
       "      <td>3.360</td>\n",
       "      <td>0.382270</td>\n",
       "      <td>0.110370</td>\n",
       "      <td>0.173440</td>\n",
       "      <td>0.16430</td>\n",
       "      <td>0.071120</td>\n",
       "      <td>0.312680</td>\n",
       "      <td>Afghanistan</td>\n",
       "      <td>Southern Asia</td>\n",
       "      <td>2016</td>\n",
       "    </tr>\n",
       "    <tr>\n",
       "      <th>3</th>\n",
       "      <td>3.794</td>\n",
       "      <td>0.401477</td>\n",
       "      <td>0.581543</td>\n",
       "      <td>0.180747</td>\n",
       "      <td>0.10618</td>\n",
       "      <td>0.061158</td>\n",
       "      <td>0.311871</td>\n",
       "      <td>Afghanistan</td>\n",
       "      <td>Southern Asia</td>\n",
       "      <td>2017</td>\n",
       "    </tr>\n",
       "    <tr>\n",
       "      <th>4</th>\n",
       "      <td>3.632</td>\n",
       "      <td>0.332000</td>\n",
       "      <td>0.537000</td>\n",
       "      <td>0.255000</td>\n",
       "      <td>0.08500</td>\n",
       "      <td>0.036000</td>\n",
       "      <td>0.191000</td>\n",
       "      <td>Afghanistan</td>\n",
       "      <td>Southern Asia</td>\n",
       "      <td>2018</td>\n",
       "    </tr>\n",
       "    <tr>\n",
       "      <th>5</th>\n",
       "      <td>3.203</td>\n",
       "      <td>0.350000</td>\n",
       "      <td>0.517000</td>\n",
       "      <td>0.361000</td>\n",
       "      <td>0.00000</td>\n",
       "      <td>0.025000</td>\n",
       "      <td>0.158000</td>\n",
       "      <td>Afghanistan</td>\n",
       "      <td>Southern Asia</td>\n",
       "      <td>2019</td>\n",
       "    </tr>\n",
       "  </tbody>\n",
       "</table>\n",
       "</div>"
      ],
      "text/plain": [
       "   HappinessIndex   Economy    Family    Health  Freedom     Trust  \\\n",
       "1           3.575  0.319820  0.302850  0.303350  0.23414  0.097190   \n",
       "2           3.360  0.382270  0.110370  0.173440  0.16430  0.071120   \n",
       "3           3.794  0.401477  0.581543  0.180747  0.10618  0.061158   \n",
       "4           3.632  0.332000  0.537000  0.255000  0.08500  0.036000   \n",
       "5           3.203  0.350000  0.517000  0.361000  0.00000  0.025000   \n",
       "\n",
       "   Generosity      Country         Region  Year  \n",
       "1    0.365100  Afghanistan  Southern Asia  2015  \n",
       "2    0.312680  Afghanistan  Southern Asia  2016  \n",
       "3    0.311871  Afghanistan  Southern Asia  2017  \n",
       "4    0.191000  Afghanistan  Southern Asia  2018  \n",
       "5    0.158000  Afghanistan  Southern Asia  2019  "
      ]
     },
     "execution_count": 17,
     "metadata": {},
     "output_type": "execute_result"
    }
   ],
   "source": [
    "reg_df = df_comb.loc[msk_2015_2019, analysis_features + ['Country', 'Region', 'Year']].copy()\n",
    "print(reg_df.shape)\n",
    "reg_df.head()"
   ]
  },
  {
   "cell_type": "code",
   "execution_count": 18,
   "id": "5864db7a",
   "metadata": {},
   "outputs": [
    {
     "name": "stdout",
     "output_type": "stream",
     "text": [
      "HappinessIndex     0\n",
      "Economy           38\n",
      "Family            38\n",
      "Health            38\n",
      "Freedom           38\n",
      "Trust             38\n",
      "Generosity        38\n",
      "Country            0\n",
      "Region            33\n",
      "Year               0\n",
      "dtype: int64\n",
      "HappinessIndex    0\n",
      "Economy           0\n",
      "Family            0\n",
      "Health            0\n",
      "Freedom           0\n",
      "Trust             0\n",
      "Generosity        0\n",
      "Country           0\n",
      "Region            0\n",
      "Year              0\n",
      "dtype: int64\n"
     ]
    }
   ],
   "source": [
    "# Drop these observations out for the model\n",
    "print(reg_df.isna().sum())\n",
    "reg_df = reg_df.dropna().copy()\n",
    "print(reg_df.isna().sum())"
   ]
  },
  {
   "cell_type": "code",
   "execution_count": 19,
   "id": "ccbdabce",
   "metadata": {},
   "outputs": [
    {
     "name": "stdout",
     "output_type": "stream",
     "text": [
      "    Economy    Family    Health  Freedom     Trust  Generosity\n",
      "1  0.319820  0.302850  0.303350  0.23414  0.097190    0.365100\n",
      "2  0.382270  0.110370  0.173440  0.16430  0.071120    0.312680\n",
      "3  0.401477  0.581543  0.180747  0.10618  0.061158    0.311871\n",
      "4  0.332000  0.537000  0.255000  0.08500  0.036000    0.191000\n",
      "5  0.350000  0.517000  0.361000  0.00000  0.025000    0.158000\n"
     ]
    },
    {
     "data": {
      "text/plain": [
       "((742, 6), (742,))"
      ]
     },
     "execution_count": 19,
     "metadata": {},
     "output_type": "execute_result"
    }
   ],
   "source": [
    "# Apply standard scaler to scale dependent variables\n",
    "feats_to_scale = ['Economy', 'Family', 'Health', 'Freedom', 'Trust', 'Generosity']\n",
    "X_scale = reg_df.filter(feats_to_scale).copy()\n",
    "print(X_scale.head())\n",
    "scaler = StandardScaler()\n",
    "scaler.fit(X_scale)\n",
    "X = scaler.transform(X_scale)\n",
    "y = np.array(reg_df['HappinessIndex'].copy())\n",
    "X.shape, y.shape"
   ]
  },
  {
   "cell_type": "code",
   "execution_count": 25,
   "id": "c4b607cc",
   "metadata": {},
   "outputs": [],
   "source": [
    "# Add standardized features to regression df\n",
    "for ii in range(X.shape[1]):\n",
    "    col_name = feats_to_scale[ii] + '_scale'\n",
    "    reg_df.loc[:, col_name] = X[:, ii]"
   ]
  },
  {
   "cell_type": "code",
   "execution_count": 60,
   "id": "75f8195d",
   "metadata": {},
   "outputs": [
    {
     "data": {
      "text/plain": [
       "Text(0.5, 1.0, 'Predicted vs Actual Happiness Score')"
      ]
     },
     "execution_count": 60,
     "metadata": {},
     "output_type": "execute_result"
    },
    {
     "data": {
      "image/png": "[encoded data removed]",
      "text/plain": [
       "<Figure size 640x480 with 1 Axes>"
      ]
     },
     "metadata": {},
     "output_type": "display_data"
    }
   ],
   "source": [
    "# Scatter of predicted vs actuals\n",
    "plt.scatter(x = reg_df['HappinessIndex'], y = model.predict(X))\n",
    "plt.title('Predicted vs Actual Happiness Score')"
   ]
  },
  {
   "cell_type": "code",
   "execution_count": 26,
   "id": "7e62b61f",
   "metadata": {},
   "outputs": [
    {
     "data": {
      "text/plain": [
       "(array([0.47370225, 0.2045226 , 0.25385208, 0.23145314, 0.09170317,\n",
       "        0.07306824]),\n",
       " 5.385169811320755)"
      ]
     },
     "execution_count": 26,
     "metadata": {},
     "output_type": "execute_result"
    }
   ],
   "source": [
    "# Model coefficients and intercept\n",
    "model = LinearRegression().fit(X, y)\n",
    "model.coef_, model.intercept_,"
   ]
  },
  {
   "cell_type": "code",
   "execution_count": 82,
   "id": "568fe5d3",
   "metadata": {},
   "outputs": [
    {
     "data": {
      "text/plain": [
       "0.7665503285433029"
      ]
     },
     "execution_count": 82,
     "metadata": {},
     "output_type": "execute_result"
    }
   ],
   "source": [
    "# R^2 of the model (high R^2 of 77%)\n",
    "r2_score(y_pred = model.predict(X), y_true = reg_df['HappinessIndex'])"
   ]
  },
  {
   "cell_type": "code",
   "execution_count": 27,
   "id": "a796a3c6",
   "metadata": {},
   "outputs": [],
   "source": [
    "# Create map between coefficients and feature names\n",
    "feature_coef_map = dict(zip(feats_to_scale, model.coef_))"
   ]
  },
  {
   "cell_type": "code",
   "execution_count": 90,
   "id": "a13fb303",
   "metadata": {},
   "outputs": [
    {
     "data": {
      "text/plain": [
       "{'Economy': 0.4737022547157193,\n",
       " 'Family': 0.20452259583214621,\n",
       " 'Health': 0.25385208318969366,\n",
       " 'Freedom': 0.23145314450489304,\n",
       " 'Trust': 0.09170316938333468,\n",
       " 'Generosity': 0.07306824438842055}"
      ]
     },
     "execution_count": 90,
     "metadata": {},
     "output_type": "execute_result"
    }
   ],
   "source": [
    "feature_coef_map"
   ]
  },
  {
   "cell_type": "code",
   "execution_count": 28,
   "id": "4a21fa35",
   "metadata": {},
   "outputs": [],
   "source": [
    "# Add predicted scores and residuals\n",
    "reg_df.loc[:, 'PredictedIndex'] = model.predict(X)\n",
    "reg_df.loc[:, 'Resid'] = reg_df['HappinessIndex'] - reg_df['PredictedIndex']"
   ]
  },
  {
   "cell_type": "code",
   "execution_count": 29,
   "id": "dd05ff1e",
   "metadata": {},
   "outputs": [
    {
     "data": {
      "text/plain": [
       "<Axes: >"
      ]
     },
     "execution_count": 29,
     "metadata": {},
     "output_type": "execute_result"
    },
    {
     "data": {
      "image/png": "[encoded data removed]",
      "text/plain": [
       "<Figure size 640x480 with 1 Axes>"
      ]
     },
     "metadata": {},
     "output_type": "display_data"
    }
   ],
   "source": [
    "# Plot residuals\n",
    "reg_df.Resid.hist()"
   ]
  },
  {
   "cell_type": "markdown",
   "id": "4734de9e",
   "metadata": {},
   "source": [
    "### Add Attribution + Check that it is working"
   ]
  },
  {
   "cell_type": "code",
   "execution_count": 30,
   "id": "56b423d0",
   "metadata": {},
   "outputs": [],
   "source": [
    "# Calculate effect size of each feature per country / time period\n",
    "for feat in feats_to_scale:\n",
    "    coef = feature_coef_map[feat]\n",
    "    reg_df.loc[:, f'{feat}_contribution'] = reg_df.loc[:, f'{feat}_scale'] * coef"
   ]
  },
  {
   "cell_type": "code",
   "execution_count": 75,
   "id": "965ddd6c",
   "metadata": {},
   "outputs": [
    {
     "name": "stdout",
     "output_type": "stream",
     "text": [
      "      Generosity  Generosity_scale  Generosity_scale\n",
      "1       0.365100          1.175638          0.085902\n",
      "2       0.312680          0.748028          0.054657\n",
      "3       0.311871          0.741429          0.054175\n",
      "4       0.191000         -0.244561         -0.017870\n",
      "5       0.158000         -0.513755         -0.037539\n",
      "...          ...               ...               ...\n",
      "1514    0.189870         -0.253779         -0.018543\n",
      "1515    0.185030         -0.293261         -0.021428\n",
      "1516    0.189143         -0.259709         -0.018977\n",
      "1517    0.132000         -0.725846         -0.053036\n",
      "1518    0.151000         -0.570856         -0.041711\n",
      "\n",
      "[742 rows x 3 columns]\n"
     ]
    }
   ],
   "source": [
    "# Check that feature scaling is working\n",
    "example_feat = 'Generosity'\n",
    "example_coef = feature_coef_map[example_feat]\n",
    "example_feat = reg_df.loc[:, example_feat].copy()\n",
    "example_feat_scale = reg_df.loc[:, f'{feat}_scale'].copy()\n",
    "example_feat_cont = reg_df.loc[:, f'{feat}_scale'].copy() * coef\n",
    "feat_comp = pd.concat([example_feat, example_feat_scale, example_feat_cont], axis = 1)\n",
    "print(feat_comp)"
   ]
  },
  {
   "cell_type": "code",
   "execution_count": 35,
   "id": "dd5604f9",
   "metadata": {},
   "outputs": [
    {
     "data": {
      "text/plain": [
       "['Economy_contribution',\n",
       " 'Family_contribution',\n",
       " 'Health_contribution',\n",
       " 'Freedom_contribution',\n",
       " 'Trust_contribution',\n",
       " 'Generosity_contribution',\n",
       " 'Resid']"
      ]
     },
     "execution_count": 35,
     "metadata": {},
     "output_type": "execute_result"
    }
   ],
   "source": [
    "cont_features = ['Economy_contribution', 'Family_contribution', 'Health_contribution', 'Freedom_contribution',\n",
    "                   'Trust_contribution', 'Generosity_contribution', 'Resid']\n",
    "cont_features"
   ]
  },
  {
   "cell_type": "code",
   "execution_count": 74,
   "id": "1c1d746e",
   "metadata": {},
   "outputs": [
    {
     "data": {
      "text/plain": [
       "True"
      ]
     },
     "execution_count": 74,
     "metadata": {},
     "output_type": "execute_result"
    }
   ],
   "source": [
    "# The intercept of the regression model is just equal to the average happiness score\n",
    "model.intercept_ == reg_df['HappinessIndex'].mean()"
   ]
  },
  {
   "cell_type": "code",
   "execution_count": 72,
   "id": "d5818c94",
   "metadata": {},
   "outputs": [
    {
     "data": {
      "text/html": [
       "<div>\n",
       "<style scoped>\n",
       "    .dataframe tbody tr th:only-of-type {\n",
       "        vertical-align: middle;\n",
       "    }\n",
       "\n",
       "    .dataframe tbody tr th {\n",
       "        vertical-align: top;\n",
       "    }\n",
       "\n",
       "    .dataframe thead th {\n",
       "        text-align: right;\n",
       "    }\n",
       "</style>\n",
       "<table border=\"1\" class=\"dataframe\">\n",
       "  <thead>\n",
       "    <tr style=\"text-align: right;\">\n",
       "      <th></th>\n",
       "      <th>Calculated Score</th>\n",
       "      <th>Happiness Index</th>\n",
       "    </tr>\n",
       "  </thead>\n",
       "  <tbody>\n",
       "    <tr>\n",
       "      <th>1</th>\n",
       "      <td>3.575</td>\n",
       "      <td>3.575</td>\n",
       "    </tr>\n",
       "    <tr>\n",
       "      <th>2</th>\n",
       "      <td>3.360</td>\n",
       "      <td>3.360</td>\n",
       "    </tr>\n",
       "    <tr>\n",
       "      <th>3</th>\n",
       "      <td>3.794</td>\n",
       "      <td>3.794</td>\n",
       "    </tr>\n",
       "    <tr>\n",
       "      <th>4</th>\n",
       "      <td>3.632</td>\n",
       "      <td>3.632</td>\n",
       "    </tr>\n",
       "    <tr>\n",
       "      <th>5</th>\n",
       "      <td>3.203</td>\n",
       "      <td>3.203</td>\n",
       "    </tr>\n",
       "    <tr>\n",
       "      <th>...</th>\n",
       "      <td>...</td>\n",
       "      <td>...</td>\n",
       "    </tr>\n",
       "    <tr>\n",
       "      <th>1514</th>\n",
       "      <td>4.610</td>\n",
       "      <td>4.610</td>\n",
       "    </tr>\n",
       "    <tr>\n",
       "      <th>1515</th>\n",
       "      <td>4.193</td>\n",
       "      <td>4.193</td>\n",
       "    </tr>\n",
       "    <tr>\n",
       "      <th>1516</th>\n",
       "      <td>3.875</td>\n",
       "      <td>3.875</td>\n",
       "    </tr>\n",
       "    <tr>\n",
       "      <th>1517</th>\n",
       "      <td>3.692</td>\n",
       "      <td>3.692</td>\n",
       "    </tr>\n",
       "    <tr>\n",
       "      <th>1518</th>\n",
       "      <td>3.663</td>\n",
       "      <td>3.663</td>\n",
       "    </tr>\n",
       "  </tbody>\n",
       "</table>\n",
       "<p>742 rows × 2 columns</p>\n",
       "</div>"
      ],
      "text/plain": [
       "      Calculated Score  Happiness Index\n",
       "1                3.575            3.575\n",
       "2                3.360            3.360\n",
       "3                3.794            3.794\n",
       "4                3.632            3.632\n",
       "5                3.203            3.203\n",
       "...                ...              ...\n",
       "1514             4.610            4.610\n",
       "1515             4.193            4.193\n",
       "1516             3.875            3.875\n",
       "1517             3.692            3.692\n",
       "1518             3.663            3.663\n",
       "\n",
       "[742 rows x 2 columns]"
      ]
     },
     "execution_count": 72,
     "metadata": {},
     "output_type": "execute_result"
    }
   ],
   "source": [
    "# Check that calc scores are the same as actual scores\n",
    "calc_pred = reg_df[cont_features].sum(axis = 1) +  5.385169811320755\n",
    "score_comp = pd.concat([calc_pred, reg_df['HappinessIndex']], axis = 1)\n",
    "score_comp.columns = ['Calculated Score', 'Happiness Index']\n",
    "assert np.where(abs(score_comp['Calculated Score'] - score_comp['Happiness Index']) >= .00001)\n",
    "score_comp"
   ]
  },
  {
   "cell_type": "code",
   "execution_count": 85,
   "id": "8890d2da",
   "metadata": {},
   "outputs": [],
   "source": [
    "# Add intercept to the dataframe for attribution of scores\n",
    "reg_df.loc[:, 'Intercept'] = model.intercept_"
   ]
  },
  {
   "cell_type": "markdown",
   "id": "60f10e61",
   "metadata": {},
   "source": [
    "### Write dataframe to CSV"
   ]
  },
  {
   "cell_type": "code",
   "execution_count": 276,
   "id": "1a560f9f",
   "metadata": {},
   "outputs": [
    {
     "data": {
      "text/plain": [
       "'/Users/kevincory/Documents/Graduate Classes/6289 - DB Mgmt Using Python/Project/Analysis'"
      ]
     },
     "execution_count": 276,
     "metadata": {},
     "output_type": "execute_result"
    }
   ],
   "source": [
    "# Get cwd\n",
    "os.getcwd()"
   ]
  },
  {
   "cell_type": "code",
   "execution_count": 87,
   "id": "beaa28f3",
   "metadata": {},
   "outputs": [
    {
     "name": "stdout",
     "output_type": "stream",
     "text": [
      "wrote to csv\n"
     ]
    }
   ],
   "source": [
    "# Write regression data to CSV\n",
    "reg_df.to_csv('happiness_regression_data.csv')\n",
    "print('wrote to csv')"
   ]
  }
 ],
 "metadata": {
  "kernelspec": {
   "display_name": "Python 3 (ipykernel)",
   "language": "python",
   "name": "python3"
  },
  "language_info": {
   "codemirror_mode": {
    "name": "ipython",
    "version": 3
   },
   "file_extension": ".py",
   "mimetype": "text/x-python",
   "name": "python",
   "nbconvert_exporter": "python",
   "pygments_lexer": "ipython3",
   "version": "3.9.18"
  }
 },
 "nbformat": 4,
 "nbformat_minor": 5
}
